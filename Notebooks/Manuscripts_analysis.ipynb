{
 "cells": [
  {
   "cell_type": "markdown",
   "metadata": {},
   "source": [
    "# Manuscripts\n",
    "\n",
    "\n",
    "We scrape the following two websites to get the manuscripts\n",
    "\n",
    "- [imsdb](http://www.imsdb.com/)\n",
    "- [springfieldspringfield](https://www.springfieldspringfield.co.uk/)\n",
    "- [imsdb movie scripts](https://figshare.com/projects/imsdb_movie_scripts/18907)\n"
   ]
  },
  {
   "cell_type": "code",
   "execution_count": 27,
   "metadata": {
    "collapsed": false
   },
   "outputs": [],
   "source": [
    "# lets start by getting the data\n",
    "import csv\n",
    "import math\n",
    "import matplotlib.pyplot as plt\n",
    "from collections import defaultdict\n",
    "from collections import Counter\n",
    "import json\n",
    "import re\n",
    "import os\n",
    "import matplotlib.pyplot as plt\n",
    "import operator\n",
    "import string\n",
    "import nltk\n",
    "from nltk.tokenize import RegexpTokenizer\n",
    "from nltk.corpus import stopwords\n",
    "import numpy as np\n",
    "import operator\n",
    "from math import log10, floor\n",
    "\n",
    "# Function used to round numbers to n significant numbers\n",
    "def round_sig(x, sig=2):\n",
    "    return round(x, sig-int(floor(log10(abs(x))))-1)"
   ]
  },
  {
   "cell_type": "code",
   "execution_count": 5,
   "metadata": {
    "collapsed": false
   },
   "outputs": [],
   "source": [
    "# Get data line by line from tmdb-5000-movie-database and save the data as dictionary\n",
    "\n",
    "filepath = \"/Users/GretarAtli/Documents/GitHub/Dtu/Dtu-SocialGraphs-FinalProject/Data/tmdb-5000-movie-dataset/tmdb_5000_credits.csv\"\n",
    "tmdb_5000_credits = defaultdict(dict)\n",
    "\n",
    "with open(filepath) as csvfile:\n",
    "    reader = csv.DictReader(csvfile, delimiter=\",\")\n",
    "    for row in reader:\n",
    "        tmdb_5000_credits[row[\"title\"]] = row\n"
   ]
  },
  {
   "cell_type": "code",
   "execution_count": 48,
   "metadata": {
    "collapsed": false
   },
   "outputs": [],
   "source": [
    "# Get data line by line from tmdb-5000-movie-database and save the data as dictionary\n",
    "\n",
    "filepath = \"/Users/GretarAtli/Documents/GitHub/Dtu/Dtu-SocialGraphs-FinalProject/Data/tmdb-5000-movie-dataset/tmdb_5000_movies.csv\"\n",
    "tmdb_5000_movies = defaultdict(dict)\n",
    "\n",
    "with open(filepath) as csvfile:\n",
    "    reader = csv.DictReader(csvfile, delimiter=\",\")\n",
    "    for row in reader:\n",
    "        tmdb_5000_movies[row[\"title\"]] = row\n",
    "        # put the lists and dictonaries to a correct format, (that is not as string)\n",
    "        tmdb_5000_movies[row[\"title\"]]['genres'] = json.loads(tmdb_5000_movies[row[\"title\"]]['genres'])\n",
    "        tmdb_5000_movies[row[\"title\"]]['keywords'] = json.loads(tmdb_5000_movies[row[\"title\"]]['keywords'])\n",
    "        tmdb_5000_movies[row[\"title\"]]['production_companies'] = json.loads(tmdb_5000_movies[row[\"title\"]]['production_companies'])\n",
    "        \n",
    "for title in sorted(tmdb_5000_movies.keys()):\n",
    "    title = title.replace(\" \",\"-\").replace(\"(\",\"\").replace(\")\",\"\")"
   ]
  },
  {
   "cell_type": "code",
   "execution_count": null,
   "metadata": {
    "collapsed": false
   },
   "outputs": [],
   "source": []
  },
  {
   "cell_type": "markdown",
   "metadata": {},
   "source": [
    "## Get scripts from .txt files \n"
   ]
  },
  {
   "cell_type": "markdown",
   "metadata": {},
   "source": [
    "Fetching the scripts from the hard drive and check if the corresponding movie is a part of our main database. We want to find the size of the intersection to our database. In other words the number of scripts that correspond to a movie in our taggle database"
   ]
  },
  {
   "cell_type": "code",
   "execution_count": 8,
   "metadata": {
    "collapsed": false
   },
   "outputs": [],
   "source": [
    "filepath_scripts =  \"/Users/GretarAtli/Dropbox/SocialGraph/scripts/\"\n",
    "\n",
    "\n",
    "# A python dictionary that maintains the information what movie has a manuscript in our database\n",
    "manuscripts = defaultdict(bool)\n",
    "\n",
    "for title in sorted(tmdb_5000_credits.keys()):\n",
    "    title_for_uri = title.replace(\" \",\"-\").replace(\"(\",\"\").replace(\")\",\"\")\n",
    "    filename = filepath_scripts + title_for_uri + \".txt\"\n",
    "    try:\n",
    "        #print (filename)\n",
    "        f = open(filename,\"r\")\n",
    "        manuscripts[title] = True\n",
    "    except:\n",
    "        manuscripts[title] = False"
   ]
  },
  {
   "cell_type": "markdown",
   "metadata": {},
   "source": [
    "## Check intersection\n",
    "\n",
    "We only want to make analysis on the movies that are part of the kaggle database. Therefore we start by finding the intersection between the scripts database and the kaggle database. In other words we want to find the movies that are part of both databases."
   ]
  },
  {
   "cell_type": "code",
   "execution_count": 9,
   "metadata": {
    "collapsed": true
   },
   "outputs": [],
   "source": [
    "manuscripts_intersection = [key for key,value in manuscripts.items() if value == True]"
   ]
  },
  {
   "cell_type": "code",
   "execution_count": 10,
   "metadata": {
    "collapsed": false
   },
   "outputs": [
    {
     "name": "stdout",
     "output_type": "stream",
     "text": [
      "Number of movies that are in both databases is: 686 movies\n"
     ]
    }
   ],
   "source": [
    "print(\"Number of movies that are in both databases is: {} movies\".format(len(manuscripts_intersection)))"
   ]
  },
  {
   "cell_type": "markdown",
   "metadata": {},
   "source": [
    "## Time span manuscripts"
   ]
  },
  {
   "cell_type": "code",
   "execution_count": 11,
   "metadata": {
    "collapsed": false
   },
   "outputs": [],
   "source": [
    "movies_with_manuscripts = [(key, tmdb_5000_movies[key][\"release_date\"].split(\"-\")[0] ) \n",
    "                           for key,value in manuscripts.items() if value == True]\n",
    "\n",
    "mwm_year_dist = Counter([year for _,year in movies_with_manuscripts])"
   ]
  },
  {
   "cell_type": "code",
   "execution_count": 12,
   "metadata": {
    "collapsed": false
   },
   "outputs": [
    {
     "data": {
      "image/png": "[encoded data removed]",
      "text/plain": [
       "<matplotlib.figure.Figure at 0x10fb083c8>"
      ]
     },
     "metadata": {},
     "output_type": "display_data"
    }
   ],
   "source": [
    "plt.figure(figsize=(10,4))\n",
    "plt.bar(mwm_year_dist.keys(), mwm_year_dist.values(), color=\"green\")\n",
    "plt.xlabel(\"Year\")\n",
    "plt.ylabel(\"frequency\")\n",
    "plt.title(\"Number of manuscripts per year in database\")\n",
    "plt.show()"
   ]
  },
  {
   "cell_type": "markdown",
   "metadata": {},
   "source": [
    "It can be seen here above that most of the manuscripts are from the period 1990 util 2015. "
   ]
  },
  {
   "cell_type": "markdown",
   "metadata": {
    "collapsed": false
   },
   "source": [
    "# Sentiment Analysis\n",
    "\n",
    "Now we have the scripts ready to do our sentiment analysis of the manuscripts. The first thing that is done is to get the happyness rank from the LabMT wordlist.  It's available as supplementary material from Temporal Patterns of Happiness and Information in a Global Social Network: Hedonometrics and Twitter (Data Set S1).\n",
    "\n",
    "We start of by getting the average happiness of each word in Data set S1 into a dictionary. We do this by reading dat set line by line and for each line (exept the first 4 lines) into a dictionary\n",
    "\n",
    "The dataset as well as more information about how the average happyness value of each word in the dataset is calculated can be found by clicking on the following [link](http://journals.plos.org/plosone/article?id=10.1371/journal.pone.0026752#s2)"
   ]
  },
  {
   "cell_type": "code",
   "execution_count": 15,
   "metadata": {
    "collapsed": true
   },
   "outputs": [],
   "source": [
    "from collections import defaultdict\n",
    "\n",
    "# counter to count the number of lines that have been processed\n",
    "counter = 0\n",
    "\n",
    "happyness_rank = defaultdict(float)\n",
    "path = '/Users/GretarAtli/Documents/GitHub/Dtu/Dtu-SocialGraphs-FinalProject/Data/Data_Set_S1.txt'\n",
    "with open(path) as f:\n",
    "    for line in f:\n",
    "        counter += 1\n",
    "        \n",
    "        # we want to skip the first 4 lines of the file\n",
    "        if counter > 4:\n",
    "            line = line.split()\n",
    "            word = line[0]  # get the word from the line\n",
    "            happiness_average = float(line[2]) # get the word happiness average\n",
    "            happyness_rank[word] = happiness_average"
   ]
  },
  {
   "cell_type": "code",
   "execution_count": 16,
   "metadata": {
    "collapsed": false
   },
   "outputs": [],
   "source": [
    "import numpy as np\n",
    "\n",
    "from __future__ import division\n",
    "\n",
    "# Takes in a list of tokens and the happiness_keys which is the list of words in data set 1\n",
    "# returns the mean value of the happiness rank that was found in the tokens array\n",
    "# if no value was found then the function returns None\n",
    "def estimateHappiness(tokens,happiness_keys):\n",
    "    \n",
    "    happiness_avg = [] # an array that contains the average happyness values of the tokens\n",
    "    \n",
    "    for token in tokens:\n",
    "        # only include the words that can be found in the data set\n",
    "        if token in happiness_keys: \n",
    "            happiness_avg.append(happyness_rank[token])\n",
    "            \n",
    "    # If no word in the tokens array is found in the dataset then we return 0\n",
    "    if len(happiness_avg) == 0:\n",
    "        return None\n",
    "    else : \n",
    "        return np.mean(happiness_avg)"
   ]
  },
  {
   "cell_type": "code",
   "execution_count": 25,
   "metadata": {
    "collapsed": false,
    "scrolled": true
   },
   "outputs": [],
   "source": [
    "filepath_scripts =  \"/Users/GretarAtli/Dropbox/SocialGraph/scripts/\"\n",
    "\n",
    "\n",
    "happiness_keys = set(happyness_rank.keys())\n",
    "\n",
    "# Create a dictionary that is a container for the sensitivity analysis values\n",
    "happiness_score = defaultdict(float)\n",
    "\n",
    "\n",
    "counter = 0\n",
    "for title in manuscripts_intersection:\n",
    "    title_for_uri = title.replace(\" \",\"-\").replace(\"(\",\"\").replace(\")\",\"\")\n",
    "    filename = filepath_scripts + title_for_uri + \".txt\"\n",
    "    #print (filename)\n",
    "    f = open(filename,\"r\")\n",
    "    \n",
    "    movie_text_tokens = []\n",
    "    \n",
    "    for line in f.readlines():\n",
    "        # Clean the text by eliminating punctations \n",
    "        translator = str.maketrans(string.punctuation, ' '*len(string.punctuation))\n",
    "        line = line.translate(translator)\n",
    "        \n",
    "        if not line.isupper():\n",
    "            line = line.lower() # make the whole line lower case\n",
    "            #tokenizer = RegexpTokenizer(r'\\w+')  # We choose to use regularexpression tokenizer\n",
    "            #line = tokenizer.tokenize(line) # Get all tokens with the tokenizer\n",
    "            line = line.split()\n",
    "            # filter out the stop words \n",
    "            #line = [w for w in line if not w in stopwords.words('english')] \n",
    "\n",
    "            # We decided to eliminate sentances if it only contains upper case letters. \n",
    "            # because we did not want to include the scene headings\n",
    "            if line:\n",
    "                #print (line)\n",
    "                for word in line:\n",
    "                    movie_text_tokens.append(word)\n",
    "    \n",
    "    happiness_score[title] = estimateHappiness(movie_text_tokens,happiness_keys)\n",
    "    #break\n",
    "    counter += 1\n",
    "    #print(counter)"
   ]
  },
  {
   "cell_type": "markdown",
   "metadata": {},
   "source": [
    "** Save the result to a file**"
   ]
  },
  {
   "cell_type": "code",
   "execution_count": 72,
   "metadata": {
    "collapsed": false
   },
   "outputs": [],
   "source": [
    "result_file_uri = \"/Users/GretarAtli/Dropbox/SocialGraph/results/happiness-score.json\"\n",
    "\n",
    "with open(result_file_uri, 'w') as fp:\n",
    "    json.dump(happiness_score, fp)\n"
   ]
  },
  {
   "cell_type": "markdown",
   "metadata": {},
   "source": [
    "## Pre Analysing the result"
   ]
  },
  {
   "cell_type": "markdown",
   "metadata": {},
   "source": [
    "We start our analysis by plotting um the average sentiment score for all of the 686 movie scripts that we are going to analyse"
   ]
  },
  {
   "cell_type": "code",
   "execution_count": 18,
   "metadata": {
    "collapsed": false
   },
   "outputs": [],
   "source": [
    "y, x = np.histogram(list(happiness_score.values()),100)"
   ]
  },
  {
   "cell_type": "code",
   "execution_count": 19,
   "metadata": {
    "collapsed": false,
    "scrolled": true
   },
   "outputs": [
    {
     "data": {
      "image/png": "[encoded data removed]",
      "text/plain": [
       "<matplotlib.figure.Figure at 0x10ff9ec88>"
      ]
     },
     "metadata": {},
     "output_type": "display_data"
    }
   ],
   "source": [
    "plt.figure(figsize=(10,4))\n",
    "plt.plot(x[0:-1], y, 'o', color=\"green\",)\n",
    "plt.title(\"Sentiment analysis on manuscripts\")\n",
    "plt.ylabel(\"Frequency\")\n",
    "plt.xlabel(\"Happiness score\")\n",
    "plt.show()"
   ]
  },
  {
   "cell_type": "markdown",
   "metadata": {},
   "source": [
    "- It can be seen that the average sentiment or happyness score of the movies forms a distribution that looks a lot like normal distribution. The values are all within quite narrow range, which is understandable because we are calculating the average sentiment of the movies over a whole manuscript. Therefore the values will all be dragged towards the average happyness score of the LabMT wordlist. However, the results still has some variance and we will analyse the difference further here down below. \n",
    "- It is interesting to see that the distribution seems to be inline with the [central limit theorem](https://en.wikipedia.org/wiki/Central_limit_theorem). \n",
    "- We decided to not delete the stopwords from the token list of each manuscript, the reason being that the LabMT wordlist contains stopwords and therefore, in our opinion, it does not make sens to excluse the informtion that the stopwords contain. "
   ]
  },
  {
   "cell_type": "markdown",
   "metadata": {},
   "source": [
    "**The ten 'happiest scripts' are : **\n",
    "\n",
    "It is interesting to see what are the 10 movies that have the happiest vocabulary on average."
   ]
  },
  {
   "cell_type": "code",
   "execution_count": 66,
   "metadata": {
    "collapsed": false
   },
   "outputs": [
    {
     "name": "stdout",
     "output_type": "stream",
     "text": [
      "Movie                               Avg. score       Genres         \n",
      "---------------------------------------------------------------------------------\n",
      "Mary Poppins                        5.5375            Comedy Family Fantasy \n",
      "Boyhood                             5.5303            Drama         \n",
      "Bridesmaids                         5.5273            Comedy Romance \n",
      "Her                                 5.5222            Romance Science Fiction Drama \n",
      "The Family Man                      5.5103            Comedy Drama Romance Fantasy \n",
      "Napoleon Dynamite                   5.5102            Comedy        \n",
      "Precious                            5.5094            Drama         \n",
      "The Perks of Being a Wallflower     5.5082            Drama Romance \n",
      "Rachel Getting Married              5.5039            Drama         \n",
      "It's Complicated                    5.4989            Comedy Romance \n"
     ]
    }
   ],
   "source": [
    "ten_happiest = sorted(happiness_score.items(), key=operator.itemgetter(1), reverse=True)[0:10]\n",
    "\n",
    "print (\"{movie_s: <35} {sentimentscore_s: <16} {genre_s: <14} \".format(\n",
    "    movie_s = \"Movie\", sentimentscore_s = \"Avg. score\", genre_s = \"Genres\"))\n",
    "\n",
    "print (\"---------------------------------------------------------------------------------\")\n",
    "\n",
    "for key,value in ten_happiest:      \n",
    "    # Create the genre string \n",
    "    genres = \"\"\n",
    "    for genre in [genre['name'] for genre in tmdb_5000_movies[key]['genres']]:\n",
    "        genres = genres + genre + \" \"\n",
    "    \n",
    "    print (\"{movie_s: <35} {sentimentscore_s: <16}  {genre_s: <14}\".format(\n",
    "            movie_s =  key, \n",
    "            sentimentscore_s = round_sig(value,5),\n",
    "            genre_s = genres\n",
    "        ))\n"
   ]
  },
  {
   "cell_type": "markdown",
   "metadata": {
    "collapsed": true
   },
   "source": [
    "The result is not surprising and quite understandable. It can be seen that the movies with the highest average sentiment score are all so called \"feel good movies\" that we would in forehand expect to have quite happy vocabulary. This is something that we expected and it is nice to see that the result is in line with our intuition."
   ]
  },
  {
   "cell_type": "markdown",
   "metadata": {},
   "source": [
    "**The ten 'unhappiest scripts are:'**\n",
    "\n",
    "It is also interesting to see what are the 10 movies that have the \"unhappiest\" vocabulary on average."
   ]
  },
  {
   "cell_type": "code",
   "execution_count": 68,
   "metadata": {
    "collapsed": false,
    "scrolled": true
   },
   "outputs": [
    {
     "name": "stdout",
     "output_type": "stream",
     "text": [
      "Movie                               Avg. score       Genres         \n",
      "---------------------------------------------------------------------------------\n",
      "Army of Darkness                    5.2498            Fantasy Horror Comedy \n",
      "Blade II                            5.265             Fantasy Horror Action Thriller \n",
      "Dawn of the Dead                    5.2655            Fantasy Horror Action \n",
      "Resident Evil                       5.268             Horror Action Science Fiction \n",
      "Predator                            5.2687            Science Fiction Action Adventure Thriller \n",
      "Cliffhanger                         5.269             Action Adventure Thriller \n",
      "Day of the Dead                     5.2699            Horror Science Fiction \n",
      "Alone in the Dark                   5.2748            Action Fantasy Horror Thriller \n",
      "The Thing                           5.2767            Horror Mystery Science Fiction \n",
      "Conan the Barbarian                 5.2769            Adventure Fantasy Action \n"
     ]
    }
   ],
   "source": [
    "ten_happiest = sorted(happiness_score.items(), key=operator.itemgetter(1), reverse=False)[0:10]\n",
    "\n",
    "print (\"{movie_s: <35} {sentimentscore_s: <16} {genre_s: <14} \".format(\n",
    "    movie_s = \"Movie\", sentimentscore_s = \"Avg. score\", genre_s = \"Genres\"))\n",
    "\n",
    "print (\"---------------------------------------------------------------------------------\")\n",
    "\n",
    "for key,value in ten_happiest:      \n",
    "    # Create the genre string \n",
    "    genres = \"\"\n",
    "    for genre in [genre['name'] for genre in tmdb_5000_movies[key]['genres']]:\n",
    "        genres = genres + genre + \" \"\n",
    "    \n",
    "    print (\"{movie_s: <35} {sentimentscore_s: <16}  {genre_s: <14}\".format(\n",
    "            movie_s =  key, \n",
    "            sentimentscore_s = round_sig(value,5),\n",
    "            genre_s = genres\n",
    "        ))"
   ]
  },
  {
   "cell_type": "markdown",
   "metadata": {},
   "source": [
    "Again the result is as expected. The movies with the 'unhappiest' manuscript vocabulary are all movies that we could easily expect to have a negative vocabulary. These are all action or horror movies where the main storyline of the movie evolves around death or war. "
   ]
  },
  {
   "cell_type": "markdown",
   "metadata": {
    "collapsed": false
   },
   "source": [
    "## Sentiment Vs Success of a movie \n",
    "\n",
    "To further analyse the sentiment, we wanted to find out if the sentiment has something to do with the success of the movie. We defined the success of both as the total gross earn by the movie and also the movie imdb score. To investigate this we simply investigated if there was any correlation between first sentiment of each movie versus the imdb score of the movie and secondly if there we a correlation between the sentiment and the total gross earn by the movie. "
   ]
  },
  {
   "cell_type": "code",
   "execution_count": null,
   "metadata": {
    "collapsed": true
   },
   "outputs": [],
   "source": []
  }
 ],
 "metadata": {
  "anaconda-cloud": {},
  "kernelspec": {
   "display_name": "Python [conda env:py35]",
   "language": "python",
   "name": "conda-env-py35-py"
  },
  "language_info": {
   "codemirror_mode": {
    "name": "ipython",
    "version": 3
   },
   "file_extension": ".py",
   "mimetype": "text/x-python",
   "name": "python",
   "nbconvert_exporter": "python",
   "pygments_lexer": "ipython3",
   "version": "3.5.2"
  }
 },
 "nbformat": 4,
 "nbformat_minor": 1
}
