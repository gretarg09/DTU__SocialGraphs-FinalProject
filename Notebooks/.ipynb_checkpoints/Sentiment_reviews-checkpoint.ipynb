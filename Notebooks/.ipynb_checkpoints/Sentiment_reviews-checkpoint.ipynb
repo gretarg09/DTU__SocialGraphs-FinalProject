{
 "cells": [
  {
   "cell_type": "markdown",
   "metadata": {},
   "source": [
    "## Sentimental analysis for IMDb reviews"
   ]
  },
  {
   "cell_type": "markdown",
   "metadata": {},
   "source": [
    "In this notebook we will look at sentimental analysis of user reviews from IMDb:\n",
    "* We have 13635 reviews for the 1304 movies that were common between our dataset and the dataset that contained the reviews.\n",
    "* The original reviews dataset is available [here.](http://ai.stanford.edu/~amaas/data/sentiment/) It contains 100.000 reviews from IMDb. [Citation needed.](http://ai.stanford.edu/~amaas/papers/wvSent_acl2011.bib)\n",
    "* We will plot the sentimental score of the reviews for our movies, we will also plot the sentimental score of a movie against the IMDb rating of said movie and check if there is any correlation."
   ]
  },
  {
   "cell_type": "markdown",
   "metadata": {},
   "source": [
    "First let's get the data we need and import all packages we will be using."
   ]
  },
  {
   "cell_type": "code",
   "execution_count": 181,
   "metadata": {
    "collapsed": true
   },
   "outputs": [],
   "source": [
    "%matplotlib inline\n",
    "from __future__ import division\n",
    "from collections import defaultdict\n",
    "from nltk.tokenize import RegexpTokenizer\n",
    "from nltk.corpus import stopwords\n",
    "from math import floor, log10\n",
    "import matplotlib.pyplot as plt\n",
    "import numpy as np\n",
    "import re\n",
    "import urllib2\n",
    "import csv\n",
    "import os\n",
    "import nltk\n",
    "import heapq\n",
    "\n",
    "# Function used to round numbers to n significant numbers\n",
    "def round_sig(x, sig=2):\n",
    "    return round(x, sig-int(floor(log10(abs(x))))-1)"
   ]
  },
  {
   "cell_type": "markdown",
   "metadata": {},
   "source": [
    "### Data\n",
    "As the reviews in the dataset is linked to a IMDb ID of the review's movie we need to get the title as our TMDb dataset does not include IMDb IDs of the movies. We do this by scraping IMDb for the title of the movies, we use regular expression to get what we are interested in from the movie's page."
   ]
  },
  {
   "cell_type": "markdown",
   "metadata": {},
   "source": [
    "First we get the IMDb IDs."
   ]
  },
  {
   "cell_type": "code",
   "execution_count": 140,
   "metadata": {
    "collapsed": true
   },
   "outputs": [],
   "source": [
    "#Lets get all the URLs for the reviews\n",
    "imdb_ids = []\n",
    "with open('aclImdb/test/urls_neg.txt') as f:\n",
    "    for line in f:\n",
    "        imdb_ids.append(line.split('/')[4])\n",
    "        \n",
    "with open('aclImdb/test/urls_pos.txt') as f:\n",
    "    for line in f:\n",
    "        imdb_ids.append(line.split('/')[4])\n",
    "        \n",
    "with open('aclImdb/train/urls_neg.txt') as f:\n",
    "    for line in f:\n",
    "        imdb_ids.append(line.split('/')[4])\n",
    "        \n",
    "with open('aclImdb/train/urls_pos.txt') as f:\n",
    "    for line in f:\n",
    "        imdb_ids.append(line.split('/')[4])\n",
    "        \n",
    "with open('aclImdb/train/urls_unsup.txt') as f:\n",
    "    for line in f:\n",
    "        imdb_ids.append(line.split('/')[4])\n"
   ]
  },
  {
   "cell_type": "markdown",
   "metadata": {},
   "source": [
    "Now for the actual scraping, this will be commented out as to make sure this will not be re-run as it takes multiple hours. We are doing ~14.000 requests to IMDb, we tried doing this in multiprocessing but that resulted in IMDb 'blacklisting' us as we couldn't access their site for the next 30 minutes after. I guess they thought we were trying a DDoS attack on them. We wrote the data to a file afterwards so that we could access it again."
   ]
  },
  {
   "cell_type": "code",
   "execution_count": 141,
   "metadata": {
    "collapsed": true,
    "scrolled": true
   },
   "outputs": [],
   "source": [
    "#Scraping for the title of our IMDb IDs\n",
    "\n",
    "#set_ids = set(imdb_ids)\n",
    "#id_to_title = {}\n",
    "#counter = 0\n",
    "\n",
    "#for i in set_ids:\n",
    "#    try:\n",
    "#        counter += 1\n",
    "#        response = urllib2.urlopen('http://www.imdb.com/title/'+ i + '/')\n",
    "#        html = response.read()\n",
    "#        found = re.findall(b\"\"\"<meta property=\\'og:title\\' content=\\\"(.*)\\\"\"\"\", html)\n",
    "#        id_to_title[i] = found[0][:-7]\n",
    "#        print(counter)\n",
    "#    except:\n",
    "#        print('Failed: ' + i)\n"
   ]
  },
  {
   "cell_type": "code",
   "execution_count": 142,
   "metadata": {
    "collapsed": true
   },
   "outputs": [],
   "source": [
    "#Write the result to a file\n",
    "#with open('id_to_title_w_year.txt', 'a') as out:\n",
    "#    for i in id_to_title:\n",
    "#        out.write(i + '\\\\' + str(id_to_title[i]) + '\\n')"
   ]
  },
  {
   "cell_type": "markdown",
   "metadata": {},
   "source": [
    "Read the data from the file as to not scrape again."
   ]
  },
  {
   "cell_type": "code",
   "execution_count": 143,
   "metadata": {
    "collapsed": true
   },
   "outputs": [],
   "source": [
    "#Get the data from the file(this is simply to not have to run the scraping each time, takes many hours)\n",
    "title_to_id = {}\n",
    "with open('id_to_title_w_year.txt') as f:\n",
    "    for line in f:\n",
    "        title = line.split('\\\\')[1]\n",
    "        imdb_id = line.split('\\\\')[0]\n",
    "        if title:\n",
    "            #Get rid of trailing spaces\n",
    "            if title[-1] == ' ':\n",
    "                title_to_id[title[:-1]] = imdb_id\n",
    "            else:\n",
    "                title_to_id[title] = imdb_id"
   ]
  },
  {
   "cell_type": "markdown",
   "metadata": {},
   "source": [
    "The scraping did not go perfectly as the titles differed a bit in format. A movie title could look like 'The Lost World: Jurassic Park (1997)' while a title for a TV series or a TV movie could look like 'Planet Earth II (TV Mini-Series 2016)'. We therefore do a bit of cleaning here."
   ]
  },
  {
   "cell_type": "code",
   "execution_count": 144,
   "metadata": {
    "collapsed": true
   },
   "outputs": [],
   "source": [
    "tmp_dict = {}\n",
    "#As IMDb include year and info if it's a TV movie/series in the title we need to tidy it up a bit\n",
    "for ti in title_to_id:\n",
    "    if '(' in ti and ')' not in ti:\n",
    "        tmp_dict[ti[:ti.index('(')-1]] = title_to_id[ti]\n",
    "    else:\n",
    "        tmp_dict[ti[:-1]] = title_to_id[ti]\n",
    "title_to_id = tmp_dict"
   ]
  },
  {
   "cell_type": "markdown",
   "metadata": {},
   "source": [
    "Now let's get the titles of our movies."
   ]
  },
  {
   "cell_type": "code",
   "execution_count": 145,
   "metadata": {
    "collapsed": true
   },
   "outputs": [],
   "source": [
    "#Get the titles of the 5000 movies we have in our dataset\n",
    "movie_titles = []\n",
    "with open('tmdb_5000_movies.csv') as csvfile:\n",
    "    reader = csv.DictReader(csvfile)\n",
    "    for row in reader:\n",
    "        movie_titles.append(row['title'])"
   ]
  },
  {
   "cell_type": "markdown",
   "metadata": {},
   "source": [
    "Let's find common movies."
   ]
  },
  {
   "cell_type": "code",
   "execution_count": 146,
   "metadata": {
    "collapsed": false,
    "scrolled": true
   },
   "outputs": [
    {
     "name": "stdout",
     "output_type": "stream",
     "text": [
      "1304\n"
     ]
    }
   ],
   "source": [
    "#Find common movies, that is movies that are both in our dataset and we have reviews for\n",
    "common_movies = {}\n",
    "for i in movie_titles:\n",
    "    if i in title_to_id:\n",
    "        common_movies[title_to_id[i]] = i\n",
    "print(len(common_movies))"
   ]
  },
  {
   "cell_type": "markdown",
   "metadata": {},
   "source": [
    "The layout of the files in the reviews dataset was that it was split into 'train' and 'test' sets that each was then split into 'pos', 'neg' and 'unsup' files. That stands for positive, negative and reviews that had 0 in rating."
   ]
  },
  {
   "cell_type": "code",
   "execution_count": 147,
   "metadata": {
    "collapsed": true
   },
   "outputs": [],
   "source": [
    "#Get all the file names for our reviews and sort them\n",
    "train_pos = []\n",
    "list_of_files = []\n",
    "for filename in os.listdir('aclImdb/train/pos'):\n",
    "    list_of_files.append((int(filename.split('_')[0]),filename))\n",
    "    \n",
    "tmp_list = sorted(list_of_files)\n",
    "for i in tmp_list:\n",
    "    train_pos.append(i[1])\n",
    "\n",
    "train_neg = []\n",
    "list_of_files = []\n",
    "for filename in os.listdir('aclImdb/train/neg'):\n",
    "    list_of_files.append((int(filename.split('_')[0]),filename))\n",
    "    \n",
    "tmp_list = sorted(list_of_files)\n",
    "for i in tmp_list:\n",
    "    train_neg.append(i[1])\n",
    "    \n",
    "train_unsup = []\n",
    "list_of_files = []\n",
    "for filename in os.listdir('aclImdb/train/unsup'):\n",
    "    list_of_files.append((int(filename.split('_')[0]),filename))\n",
    "    \n",
    "tmp_list = sorted(list_of_files)\n",
    "for i in tmp_list:\n",
    "    train_unsup.append(i[1])\n",
    "    \n",
    "test_pos = []\n",
    "list_of_files = []\n",
    "for filename in os.listdir('aclImdb/test/pos'):\n",
    "    list_of_files.append((int(filename.split('_')[0]),filename))\n",
    "    \n",
    "tmp_list = sorted(list_of_files)\n",
    "for i in tmp_list:\n",
    "    test_pos.append(i[1])\n",
    "    \n",
    "test_neg = []\n",
    "list_of_files = []\n",
    "for filename in os.listdir('aclImdb/test/neg'):\n",
    "    list_of_files.append((int(filename.split('_')[0]),filename))\n",
    "    \n",
    "tmp_list = sorted(list_of_files)\n",
    "for i in tmp_list:\n",
    "    test_neg.append(i[1])\n",
    "    "
   ]
  },
  {
   "cell_type": "code",
   "execution_count": 148,
   "metadata": {
    "collapsed": true
   },
   "outputs": [],
   "source": [
    "#Here we loop through each file and collect the review text in a dictionary where the key is\n",
    "# the movie title and the value is a list of strings, where each string is a review\n",
    "list_index = 0\n",
    "review_dict = {}\n",
    "for filename in test_neg:\n",
    "    with open('aclImdb/test/neg/' + filename) as f:\n",
    "        for line in f:\n",
    "            if imdb_ids[list_index] in common_movies:\n",
    "                if common_movies[imdb_ids[list_index]] in review_dict:\n",
    "                    review_dict[common_movies[imdb_ids[list_index]]].append(line)\n",
    "                else:\n",
    "                    review_dict[common_movies[imdb_ids[list_index]]] = [line]\n",
    "    list_index += 1\n",
    "            \n",
    "for filename in test_pos:\n",
    "    with open('aclImdb/test/pos/' + filename) as f:\n",
    "        for line in f:\n",
    "            if imdb_ids[list_index] in common_movies:\n",
    "                if common_movies[imdb_ids[list_index]] in review_dict:\n",
    "                    review_dict[common_movies[imdb_ids[list_index]]].append(line)\n",
    "                else:\n",
    "                    review_dict[common_movies[imdb_ids[list_index]]] = [line]\n",
    "    list_index += 1\n",
    "        \n",
    "for filename in train_neg:\n",
    "    with open('aclImdb/train/neg/' + filename) as f:\n",
    "        for line in f:\n",
    "            if imdb_ids[list_index] in common_movies:\n",
    "                if common_movies[imdb_ids[list_index]] in review_dict:\n",
    "                    review_dict[common_movies[imdb_ids[list_index]]].append(line)\n",
    "                else:\n",
    "                    review_dict[common_movies[imdb_ids[list_index]]] = [line]\n",
    "    list_index += 1\n",
    "            \n",
    "for filename in train_pos:\n",
    "    with open('aclImdb/train/pos/' + filename) as f:\n",
    "        for line in f:\n",
    "            if imdb_ids[list_index] in common_movies:\n",
    "                if common_movies[imdb_ids[list_index]] in review_dict:\n",
    "                    review_dict[common_movies[imdb_ids[list_index]]].append(line)\n",
    "                else:\n",
    "                    review_dict[common_movies[imdb_ids[list_index]]] = [line]\n",
    "    list_index += 1\n",
    "            \n",
    "for filename in train_unsup:\n",
    "    with open('aclImdb/train/unsup/' + filename) as f:\n",
    "        for line in f:\n",
    "            if imdb_ids[list_index] in common_movies:\n",
    "                if common_movies[imdb_ids[list_index]] in review_dict:\n",
    "                    review_dict[common_movies[imdb_ids[list_index]]].append(line)\n",
    "                else:\n",
    "                    review_dict[common_movies[imdb_ids[list_index]]] = [line]\n",
    "    list_index += 1\n",
    "        "
   ]
  },
  {
   "cell_type": "markdown",
   "metadata": {},
   "source": [
    "Get data from Data_Set_S1 to use in our happiness ranking."
   ]
  },
  {
   "cell_type": "code",
   "execution_count": 149,
   "metadata": {
    "collapsed": true
   },
   "outputs": [],
   "source": [
    "# counter to count the number of lines that have been processed\n",
    "counter = 0\n",
    "\n",
    "happyness_rank = defaultdict(float)\n",
    "path = 'Data_Set_S1.txt'\n",
    "with open(path) as f:\n",
    "    for line in f:\n",
    "        counter += 1\n",
    "        \n",
    "        # we want to skip the first 4 lines of the file\n",
    "        if counter > 4:\n",
    "            line = line.split()\n",
    "            word = line[0]  # get the word from the line\n",
    "            happiness_average = float(line[2]) # get the word happiness average\n",
    "            happyness_rank[word] = happiness_average"
   ]
  },
  {
   "cell_type": "code",
   "execution_count": 150,
   "metadata": {
    "collapsed": true
   },
   "outputs": [],
   "source": [
    "# Takes in a list of tokens and the happiness_keys which is the list of words in data set 1\n",
    "# returns the mean value of the happiness rank that was found in the tokens array\n",
    "# if no value was found then the function returns None\n",
    "def estimateHappiness(tokens,happiness_keys):\n",
    "    \n",
    "    happiness_avg = [] # an array that contains the average happyness values of the tokens\n",
    "    \n",
    "    for token in tokens:\n",
    "        # only include the words that can be found in the data set\n",
    "        if token in happiness_keys: \n",
    "            happiness_avg.append(happyness_rank[token])\n",
    "            \n",
    "    # If no word in the tokens array is found in the dataset then we return 0\n",
    "    if len(happiness_avg) == 0:\n",
    "        return None\n",
    "    else : \n",
    "        return np.mean(happiness_avg)"
   ]
  },
  {
   "cell_type": "code",
   "execution_count": 159,
   "metadata": {
    "collapsed": false
   },
   "outputs": [
    {
     "name": "stderr",
     "output_type": "stream",
     "text": [
      "/anaconda/lib/python2.7/site-packages/ipykernel_launcher.py:11: UnicodeWarning: Unicode equal comparison failed to convert both arguments to Unicode - interpreting them as being unequal\n",
      "  # This is added back by InteractiveShellApp.init_path()\n"
     ]
    }
   ],
   "source": [
    "#We want to calculate average sentiment score of all reviews for a movie and also store the result in a dictionary\n",
    "movie_score_list = []\n",
    "movie_score_dict = {}\n",
    "tokenizer = RegexpTokenizer(r'\\w+')\n",
    "\n",
    "for movie in review_dict:\n",
    "    sum_of_scores = 0.0\n",
    "    for i in review_dict[movie]:\n",
    "        tokens = tokenizer.tokenize(i.lower()) # Get all tokens with the tokenizer\n",
    "        # filter out the stop words and digits\n",
    "        filtered_words = [w for w in tokens if not w in stopwords.words('english') if not w.isdigit()]\n",
    "        sum_of_scores += estimateHappiness(filtered_words,happiness_keys)\n",
    "    movie_score_list.append((sum_of_scores/len(review_dict[movie]), movie))\n",
    "    movie_score_dict[movie] = sum_of_scores/len(review_dict[movie])"
   ]
  },
  {
   "cell_type": "code",
   "execution_count": 187,
   "metadata": {
    "collapsed": false
   },
   "outputs": [
    {
     "name": "stdout",
     "output_type": "stream",
     "text": [
      "Movie:                                         Sentiment score:\n",
      "---------------------------------------------------------------\n",
      "Remember Me                                    6.2013        \n",
      "Trekkies                                       6.1763        \n",
      "Logan's Run                                    6.172         \n",
      "Joe Dirt                                       6.1652        \n",
      "Love Jones                                     6.1141        \n",
      "Superman                                       6.1021        \n"
     ]
    }
   ],
   "source": [
    "#Find the top\n",
    "top6 = heapq.nlargest(6, movie_score_list)\n",
    "\n",
    "print (\"{name_s: <46} {sentiment_d: <14}\".format(\n",
    "            name_s = \"Movie:\", sentiment_d = \"Sentiment score:\"\n",
    "        ))\n",
    "\n",
    "print(\"---------------------------------------------------------------\")\n",
    "\n",
    "for value in top6:\n",
    "    print (\"{name_s: <46} {sentiment_d: <14}\".format(\n",
    "            name_s = value[1], sentiment_d = round_sig(value[0],5)\n",
    "        ))"
   ]
  },
  {
   "cell_type": "markdown",
   "metadata": {},
   "source": [
    "Here we can see for which movies we have the 'happiest' reviews. If we look at their rating; 7.2, 7.0, 6.8, 5.9, 7.4 and 7.3 we can see that they have decent ratings but not really high. The average is ~6.9 which above average when we look at our pre-anlysing of the data (avg. rating was 6.4) but not by a big amount."
   ]
  },
  {
   "cell_type": "code",
   "execution_count": 186,
   "metadata": {
    "collapsed": false
   },
   "outputs": [
    {
     "name": "stdout",
     "output_type": "stream",
     "text": [
      "Movie:                                         Sentiment score:\n",
      "---------------------------------------------------------------\n",
      "April Fool's Day                               4.7629        \n",
      "The Big Parade                                 4.8594        \n",
      "Platoon                                        5.1339        \n",
      "Crooklyn                                       5.1813        \n",
      "Ghost Town                                     5.1897        \n",
      "Straw Dogs                                     5.1966        \n"
     ]
    }
   ],
   "source": [
    "#Find the bottom6\n",
    "bottom6 = heapq.nsmallest(6, movie_score_list)\n",
    "\n",
    "print (\"{name_s: <46} {sentiment_d: <14}\".format(\n",
    "            name_s = \"Movie:\", sentiment_d = \"Sentiment score:\"\n",
    "        ))\n",
    "\n",
    "print(\"---------------------------------------------------------------\")\n",
    "\n",
    "for value in bottom6:\n",
    "    print (\"{name_s: <46} {sentiment_d: <14}\".format(\n",
    "            name_s = value[1], sentiment_d = round_sig(value[0],5)\n",
    "        ))"
   ]
  },
  {
   "cell_type": "markdown",
   "metadata": {},
   "source": [
    "Here we can see for which movies we have the 'saddest' reviews. If we look at their rating; 3.7, 8.2, 8.1, 6.9, 6.7 and 5.8 we can see that they have decent ratings but not really high. The average is ~6.6 which above average when we look at our pre-anlysing of the data (avg. rating was 6.4) but by a smaller amount than for the 'happiest reviews. We can see though that two movies here have a really high rating, 'Platoon' is place at 187 on the list of top 250 movies of all time by ranking and received 4 Oscars as well. Let's look at the reviews we have for 'Platoon'."
   ]
  },
  {
   "cell_type": "code",
   "execution_count": 173,
   "metadata": {
    "collapsed": false
   },
   "outputs": [
    {
     "name": "stdout",
     "output_type": "stream",
     "text": [
      "I'm both amused and disgusted by the people who claim that this movie is so accurate about Vietnam, and WERE NEVER THERE. This movie is about as true about the whole Vietnam war as the Rodney King beating is true about ALL police officers. Yes, bad things do (and did) happen, but in general the people there are just like you and me. They have morals, they are not killing machines, they do not all do drugs. Atrocities were the exception in Vietnam, not the rule. They happened far more infrequently than the \"hype\" would lead you believe. Oliver Stone has a knack for making movies that show the Vietnam war as this brutal bloodbath, but are based as much in reality as Star Wars. If you honestly believe the stereotypes of Vietnam, do yourself a favour and learn the truth. Fact: the Viet Cong and NVA did far worse things to the South Vietnamese than ANY soldier in the US Armed Forces ever did. Fact: the soldiers in World War II treated the enemy far worse in general than the soldiers in Vietnam did, and they were WELCOMED when they came home. The fine Americans who served this country in Vietnam deserve our respect; though the war was badly fought from a political standpoint, no one could have asked for more from our soldiers, and it is a great disservice to assert that this kind of \"mostly true\" fiction is the way things really were there.\n",
      "-------------------\n",
      "Platoon is to the Vietnam War as Rocky IV is to heavyweight championship boxing. Oliver Stone's story of the experience of a US Army platoon in Vietnam in 1968 is so overdone it's laughable. While most or all of the occurrences in Platoon did occur over the 10+ year span of US military involvement in Vietnam, to portray these things happening to one small group of men in such a short time frame (weeks) gives a horribly skewed picture of the war. In Platoon, the men of the platoon see all of the following in the course of a week or two: US soldiers murdering civilians, US Soldiers raping civilians, a US Sergeant murdering another US Sergeant, a US Private murdering a US Staff Sergeant, US soldiers killed/wounded by friendly fire, 90%+ killed or wounded in the platoon. For Stone to try to pass this film off as the typical experience of a US soldier in Vietnam is a disgrace. Two Vietnam War films I would recommend are We Were Soldiers (the TRUE story of arguably the worst battle for US soldiers in Vietnam) and HBO's A Bright Shining Lie.\n",
      "-------------------\n",
      "I read one other review that expressed the view that Platoon was a never ending cycle of marines killing people, being killed, taking drugs and talking trash.<br /><br />I don't agree with that because the film actually had more to it, but it a way, I can see what this person is trying to say: this had no real plot - which is a point i agree with.<br /><br />It is self-indulgent Stone at his best. He really wanted to show, not only how war leads to death, but also how it is extremely traumatic on those who survive. Unfortunately, the film seems to over \"glorify\" this aspect and the grand finale is just way too champagne, grand-standing, Oscar-hunting \"let's create an enduring image\" for my liking.<br /><br />The problem I have with Stone and other film-makers of his ilk is that they fail to understand this simply concept: depicting the terribly bloody deadly waste that war is DOES NOT PROVE OR EVEN REFLECT ON WHETHER it was an unjust or immoral war. We have seen the same thing emerge at the moment with Iraq. In case you're missing the point, let me put it to you bluntly: if you saw how truly bloody the second world war was and how destructive it was on the lives of the surviving soldiers, would you think it was an unjust war? If that fact alone doesn't convince you that it was an unjust war, then why should depictions of the horrors of Vietnam convince you that it was wrong to go to war in that instance. <br /><br />Personally, I do not support America's decision to go to war in Vietnam, but i certainly don't subscribe to the \"this war is wrong because people died and suffered\" theory. I don't think that motivations are always wrong by default, just because war in itself is terrible.<br /><br />This says nothing of the fact that the ending or the final big \"twist\" was a bit stupid. However, this is not Stones first oddball departure. Wall street was a magnificent film, up until the last 30 minutes or so when it made a dreadful \"wrong turn.\" JFK is probably one of the few films Stone did that actually ended very well.<br /><br />But it hardly matters in this one because there was very little plot up until that point of the film to twist around. And this is why i gave it such a low mark. It was virtually story-less and ultimately boring - unless you fell for the manufactured poignancy.\n",
      "-------------------\n"
     ]
    }
   ],
   "source": [
    "for review in review_dict['Platoon']:\n",
    "    print review\n",
    "    print '-------------------'"
   ]
  },
  {
   "cell_type": "markdown",
   "metadata": {},
   "source": [
    "We can see that 'Oliver Stone' is making a movie about the Vietnam war which is sensitive to Americans. People seem to be taking offense of the movie, and two of them are saying that it paints a skewed picture of the war. People are also talking about the war itself instead of the movie. I would say these reviews are biased and that affects the score. Also the content of the movie and the reviews is about war. Terrible things happen at war."
   ]
  },
  {
   "cell_type": "markdown",
   "metadata": {},
   "source": [
    "Our hypothesis at this point is that there is little correlation between the sentimental score of our movies' reviews and their IMDb rating."
   ]
  },
  {
   "cell_type": "markdown",
   "metadata": {},
   "source": [
    "Let's plot the results."
   ]
  },
  {
   "cell_type": "code",
   "execution_count": 169,
   "metadata": {
    "collapsed": false
   },
   "outputs": [
    {
     "data": {
      "image/png": "[encoded data removed]",
      "text/plain": [
       "<matplotlib.figure.Figure at 0x11b437c10>"
      ]
     },
     "metadata": {},
     "output_type": "display_data"
    }
   ],
   "source": [
    "plot_data = [x[0] for x in movie_score_list]\n",
    "plt.figure(figsize=(10,4))\n",
    "plt.plot(plot_data)\n",
    "plt.title(\"Sentiment score of the movies\")\n",
    "plt.xlabel(\"Movies\")\n",
    "plt.ylabel(\"Sentiment score\")\n",
    "plt.show()"
   ]
  },
  {
   "cell_type": "markdown",
   "metadata": {},
   "source": [
    "We can see that the variance isn't high, the bulk of the movies fall between 5.5-5.8. But lets create a scatter plot where the y-axis will be IMDb rating of a movie and the x-axis will be the sentiment score of the movie's reviews."
   ]
  },
  {
   "cell_type": "markdown",
   "metadata": {},
   "source": [
    "We got the IMDb ratings of our movies by scraping, that code can be seen in another notebook. Here I simply get the data from a file we created."
   ]
  },
  {
   "cell_type": "code",
   "execution_count": 155,
   "metadata": {
    "collapsed": true
   },
   "outputs": [],
   "source": [
    "imdb_rating = {}\n",
    "with open('imdb-score-mod-mod.json') as json_data:\n",
    "    imdb_rating = json.load(json_data)"
   ]
  },
  {
   "cell_type": "code",
   "execution_count": 156,
   "metadata": {
    "collapsed": true
   },
   "outputs": [],
   "source": [
    "#Get the ids of the 5000 movies we have in our dataset\n",
    "movie_title_to_id = {}\n",
    "with open('tmdb_5000_movies.csv') as csvfile:\n",
    "    reader = csv.DictReader(csvfile)\n",
    "    for row in reader:\n",
    "        movie_title_to_id[row['title']] = row['id']"
   ]
  },
  {
   "cell_type": "code",
   "execution_count": 175,
   "metadata": {
    "collapsed": false
   },
   "outputs": [
    {
     "name": "stdout",
     "output_type": "stream",
     "text": [
      "xXx: State of the Union\n",
      "Æon Flux\n"
     ]
    }
   ],
   "source": [
    "#Lets create the data and store it in a list of tuples\n",
    "data_to_plot = []\n",
    "for i in review_dict:\n",
    "    if len(review_dict[i]) > 3:\n",
    "        try:\n",
    "            data_to_plot.append((float(imdb_rating[movie_title_to_id[i]]),movie_score_dict[i]))\n",
    "        except:\n",
    "            #We'll print out the movies we can't for some reason get the rating for\n",
    "            print i"
   ]
  },
  {
   "cell_type": "markdown",
   "metadata": {},
   "source": [
    "As there are only two movies we can't find the rating for we will disregard them."
   ]
  },
  {
   "cell_type": "code",
   "execution_count": 164,
   "metadata": {
    "collapsed": false
   },
   "outputs": [
    {
     "data": {
      "image/png": "[encoded data removed]",
      "text/plain": [
       "<matplotlib.figure.Figure at 0x11bb6a550>"
      ]
     },
     "metadata": {},
     "output_type": "display_data"
    },
    {
     "data": {
      "text/plain": [
       "array([[ 1.        ,  0.13317755],\n",
       "       [ 0.13317755,  1.        ]])"
      ]
     },
     "execution_count": 164,
     "metadata": {},
     "output_type": "execute_result"
    }
   ],
   "source": [
    "# Create the plot\n",
    "\n",
    "# We start by reverse ziping the shortest_vs_human tuples array\n",
    "y,x = zip(*data_to_plot)\n",
    "\n",
    "# The we plot the result\n",
    "plt.figure(figsize=(10,4))\n",
    "plt.plot(x, y, \"o\", alpha=0.5)\n",
    "plt.xlim(4.9, 6.2)\n",
    "#plt.ylim(-1, max(y)+1)\n",
    "plt.title(\"IMDb rating of the movie vs sentiment score of our reviews\")\n",
    "plt.xlabel(\"Sentiment score\")\n",
    "plt.ylabel(\"IMDb rating\")\n",
    "plt.show()\n",
    "\n",
    "np.corrcoef(x,y)"
   ]
  },
  {
   "cell_type": "markdown",
   "metadata": {},
   "source": [
    "As we can see there is almost no correlation between the sentiment score of the reviews of a movie and the rating the movie receives. This was somewhat expected as the sentiment of a review tells us more about the writer of the review or perhaps the sentiment of the movie but not the rating. This shows that the IMDb reviewers are relatively smart and unbiased. Because a good 'dark' movie is still a good movie and therefore the review might be 'dark' but the rating itself is based on how good the movie is."
   ]
  }
 ],
 "metadata": {
  "kernelspec": {
   "display_name": "Python [default]",
   "language": "python",
   "name": "python2"
  },
  "language_info": {
   "codemirror_mode": {
    "name": "ipython",
    "version": 2
   },
   "file_extension": ".py",
   "mimetype": "text/x-python",
   "name": "python",
   "nbconvert_exporter": "python",
   "pygments_lexer": "ipython2",
   "version": "2.7.12"
  }
 },
 "nbformat": 4,
 "nbformat_minor": 2
}
