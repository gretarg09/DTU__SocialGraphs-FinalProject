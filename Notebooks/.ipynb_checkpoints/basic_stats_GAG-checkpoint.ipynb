{
 "cells": [
  {
   "cell_type": "code",
   "execution_count": 2,
   "metadata": {
    "collapsed": false
   },
   "outputs": [],
   "source": [
    "import csv\n",
    "import math\n",
    "import json\n",
    "import re\n",
    "import os\n",
    "import calendar\n",
    "import random\n",
    "import numpy as np\n",
    "import networkx as nx\n",
    "\n",
    "import matplotlib.pyplot as plt\n",
    "from datetime import datetime\n",
    "from collections import Counter, defaultdict\n",
    "from __future__  import division"
   ]
  },
  {
   "cell_type": "code",
   "execution_count": 9,
   "metadata": {
    "collapsed": true
   },
   "outputs": [],
   "source": [
    "# Get data line by line from tmdb-5000-movie-database and save the data as dictionary\n",
    "\n",
    "filepath = \"/Users/GretarAtli/Documents/GitHub/Dtu/Dtu-SocialGraphs-FinalProject/Data/tmdb-5000-movie-dataset/tmdb_5000_credits.csv\"\n",
    "tmdb_5000_credits = defaultdict(dict)\n",
    "\n",
    "with open(filepath) as csvfile:\n",
    "    reader = csv.DictReader(csvfile, delimiter=\",\")\n",
    "    for row in reader:\n",
    "        tmdb_5000_credits[row[\"title\"]] = row\n",
    "        tmdb_5000_credits[row[\"title\"]]['cast'] = json.loads(tmdb_5000_credits[row[\"title\"]]['cast'])\n",
    "        tmdb_5000_credits[row[\"title\"]]['crew'] = json.loads(tmdb_5000_credits[row[\"title\"]]['crew'])"
   ]
  },
  {
   "cell_type": "code",
   "execution_count": 10,
   "metadata": {
    "collapsed": false
   },
   "outputs": [],
   "source": [
    "# Get data line by line from tmdb-5000-movie-database and save the data as dictionary\n",
    "\n",
    "filepath = \"/Users/GretarAtli/Documents/GitHub/Dtu/Dtu-SocialGraphs-FinalProject/Data/tmdb-5000-movie-dataset/tmdb_5000_movies.csv\"\n",
    "tmdb_5000_movies = defaultdict(dict)\n",
    "\n",
    "with open(filepath) as csvfile:\n",
    "    reader = csv.DictReader(csvfile, delimiter=\",\")\n",
    "    for row in reader:\n",
    "        tmdb_5000_movies[row[\"title\"]] = row\n",
    "        # put the lists and dictonaries to a correct format, (that is not as string)\n",
    "        tmdb_5000_movies[row[\"title\"]]['genres'] = json.loads(tmdb_5000_movies[row[\"title\"]]['genres'])\n",
    "        tmdb_5000_movies[row[\"title\"]]['keywords'] = json.loads(tmdb_5000_movies[row[\"title\"]]['keywords'])\n",
    "        tmdb_5000_movies[row[\"title\"]]['production_companies'] = json.loads(tmdb_5000_movies[row[\"title\"]]['production_companies'])\n",
    "        \n",
    "for title in sorted(tmdb_5000_movies.keys()):\n",
    "    title = title.replace(\" \",\"-\").replace(\"(\",\"\").replace(\")\",\"\")"
   ]
  },
  {
   "cell_type": "code",
   "execution_count": 11,
   "metadata": {
    "collapsed": true
   },
   "outputs": [],
   "source": [
    "# We use the fact that we know that each movie has a name, so we do not include any error handling\n",
    "def findMovieNameFromId(id):\n",
    "    name = [key for key,info in tmdb_5000_movies.items() if info['id'] == id]\n",
    "    return name[0]"
   ]
  },
  {
   "cell_type": "code",
   "execution_count": 12,
   "metadata": {
    "collapsed": false
   },
   "outputs": [],
   "source": [
    "result_file_uri = \"/Users/GretarAtli/Dropbox/SocialGraph/results/imdb-score-mod-mod.json\"\n",
    "\n",
    "# Getting Imdb scores from data and convert the id to name \n",
    "\n",
    "with open(result_file_uri) as json1_file:\n",
    "#json1_file = open(result_file_uri)\n",
    "    json1_str = json1_file.read()\n",
    "    Imdb_5000_movies_withid = json.loads(json1_str)\n",
    "\n",
    "Imdb_5000_movies = defaultdict(float)\n",
    "\n",
    "# change the dictionary key from id to name of the movie\n",
    "for key,value in Imdb_5000_movies_withid.items():\n",
    "    try: \n",
    "        name = findMovieNameFromId(key)\n",
    "        Imdb_5000_movies[name] = float(value)\n",
    "    except: \n",
    "        print(\"The movie {} has been removed from kaggle database\".format(key))\n"
   ]
  },
  {
   "cell_type": "markdown",
   "metadata": {},
   "source": [
    "#  Correlation \n",
    "\n",
    "muna að tala um afhverju við gerum þessa greiningu \n",
    "\n",
    "muna að tala um að við höfum ekki upplýsingar um allar imdb ratings"
   ]
  },
  {
   "cell_type": "code",
   "execution_count": 18,
   "metadata": {
    "collapsed": false
   },
   "outputs": [
    {
     "data": {
      "text/plain": [
       "4797"
      ]
     },
     "execution_count": 18,
     "metadata": {},
     "output_type": "execute_result"
    }
   ],
   "source": [
    "len([value for key,value in Imdb_5000_movies.items() if value != 0 ])"
   ]
  },
  {
   "cell_type": "code",
   "execution_count": 19,
   "metadata": {
    "collapsed": false
   },
   "outputs": [
    {
     "data": {
      "text/plain": [
       "4800"
      ]
     },
     "execution_count": 19,
     "metadata": {},
     "output_type": "execute_result"
    }
   ],
   "source": [
    "len(tmdb_5000_movies)"
   ]
  },
  {
   "cell_type": "code",
   "execution_count": null,
   "metadata": {
    "collapsed": true
   },
   "outputs": [],
   "source": []
  }
 ],
 "metadata": {
  "anaconda-cloud": {},
  "kernelspec": {
   "display_name": "Python [conda env:py35]",
   "language": "python",
   "name": "conda-env-py35-py"
  },
  "language_info": {
   "codemirror_mode": {
    "name": "ipython",
    "version": 3
   },
   "file_extension": ".py",
   "mimetype": "text/x-python",
   "name": "python",
   "nbconvert_exporter": "python",
   "pygments_lexer": "ipython3",
   "version": "3.5.2"
  }
 },
 "nbformat": 4,
 "nbformat_minor": 2
}
